{
 "cells": [
  {
   "cell_type": "markdown",
   "metadata": {},
   "source": [
    "Kullanıcın Girdiği İki Sayı Arasındaki Sayıların Toplamını Gösteren Program (for ile)"
   ]
  },
  {
   "cell_type": "code",
   "execution_count": 3,
   "metadata": {},
   "outputs": [
    {
     "name": "stdout",
     "output_type": "stream",
     "text": [
      "1.Sayıyı Giriniz:1\n",
      "2.Sayıyı Giriniz:9\n",
      "İki Sayı Arasındaki Toplam : 44\n"
     ]
    }
   ],
   "source": [
    "toplam=0;\n",
    "sayi1=int(input(\"1.Sayıyı Giriniz:\"))\n",
    "sayi2=int(input(\"2.Sayıyı Giriniz:\"))\n",
    "for i in range(sayi1+1 , sayi2+1):\n",
    "      toplam = toplam + i\n",
    "print(\"İki Sayı Arasındaki Toplam :\",toplam)"
   ]
  }
 ],
 "metadata": {
  "kernelspec": {
   "display_name": "Python 3",
   "language": "python",
   "name": "python3"
  },
  "language_info": {
   "codemirror_mode": {
    "name": "ipython",
    "version": 3
   },
   "file_extension": ".py",
   "mimetype": "text/x-python",
   "name": "python",
   "nbconvert_exporter": "python",
   "pygments_lexer": "ipython3",
   "version": "3.7.0"
  }
 },
 "nbformat": 4,
 "nbformat_minor": 2
}
