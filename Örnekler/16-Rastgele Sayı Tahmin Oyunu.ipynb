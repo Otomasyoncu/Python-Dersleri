{
 "cells": [
  {
   "cell_type": "markdown",
   "metadata": {},
   "source": [
    "Bilgisayar Tarafından Tutulan Rastgele Sayıyı Tahmin Eden Program"
   ]
  },
  {
   "cell_type": "code",
   "execution_count": 12,
   "metadata": {},
   "outputs": [
    {
     "name": "stdout",
     "output_type": "stream",
     "text": [
      "1 ile 100 arasında değer girin:50\n",
      "Düşük söyle.\n",
      "1 ile 100 arasında değer girin:30\n",
      "Düşük söyle.\n",
      "1 ile 100 arasında değer girin:15\n",
      "Düşük söyle.\n",
      "1 ile 100 arasında değer girin:8\n",
      "Düşük söyle.\n",
      "1 ile 100 arasında değer girin:3\n",
      "Tebrikler...\n",
      "Rastele seçilen: 3\n",
      "Tahmin sayınız: 3\n"
     ]
    }
   ],
   "source": [
    "import random\n",
    "tutulansayi = random.randint(0,100)\n",
    "sayac=0\n",
    "while 1>0:\n",
    "    sayac = sayac + 1\n",
    "    tahmin=int(input(\"1 ile 100 arasında değer girin:\"))\n",
    "    if tahmin < tutulansayi:\n",
    "        print(\"Yüksek söyle.\")\n",
    "    elif tahmin > tutulansayi:\n",
    "        print(\"Düşük söyle.\")\n",
    "    else:\n",
    "        print(\"Tebrikler...\")\n",
    "        print(\"Rastgele seçilen:\",tutulansayi)\n",
    "        print(\"Tahmin sayınız:\",tahmin)\n",
    "        break"
   ]
  },
  {
   "cell_type": "code",
   "execution_count": null,
   "metadata": {},
   "outputs": [],
   "source": []
  }
 ],
 "metadata": {
  "kernelspec": {
   "display_name": "Python 3",
   "language": "python",
   "name": "python3"
  },
  "language_info": {
   "codemirror_mode": {
    "name": "ipython",
    "version": 3
   },
   "file_extension": ".py",
   "mimetype": "text/x-python",
   "name": "python",
   "nbconvert_exporter": "python",
   "pygments_lexer": "ipython3",
   "version": "3.7.0"
  }
 },
 "nbformat": 4,
 "nbformat_minor": 2
}
