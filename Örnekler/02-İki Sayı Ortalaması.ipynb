{
 "cells": [
  {
   "cell_type": "markdown",
   "metadata": {},
   "source": [
    "İki sayının ortalamasını veren program"
   ]
  },
  {
   "cell_type": "code",
   "execution_count": 3,
   "metadata": {},
   "outputs": [
    {
     "name": "stdout",
     "output_type": "stream",
     "text": [
      "1.Sayıyı Giriniz=34\n",
      "2.Sayıyı Giriniz=16\n",
      "Sonuç = 25.0\n"
     ]
    }
   ],
   "source": [
    "sayi1  = input(\"1.Sayıyı Giriniz=\")\n",
    "sayi2  = input(\"2.Sayıyı Giriniz=\")\n",
    "sayi3  = int(sayi1) + int(sayi2)\n",
    "sayi4  = sayi3 / 2\n",
    "print(\"Sonuç =\",sayi4)"
   ]
  },
  {
   "cell_type": "code",
   "execution_count": null,
   "metadata": {},
   "outputs": [],
   "source": []
  }
 ],
 "metadata": {
  "kernelspec": {
   "display_name": "Python 3",
   "language": "python",
   "name": "python3"
  },
  "language_info": {
   "codemirror_mode": {
    "name": "ipython",
    "version": 3
   },
   "file_extension": ".py",
   "mimetype": "text/x-python",
   "name": "python",
   "nbconvert_exporter": "python",
   "pygments_lexer": "ipython3",
   "version": "3.7.0"
  }
 },
 "nbformat": 4,
 "nbformat_minor": 2
}
