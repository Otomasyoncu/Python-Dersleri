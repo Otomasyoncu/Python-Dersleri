{
 "cells": [
  {
   "cell_type": "markdown",
   "metadata": {},
   "source": [
    "Maaşı ve Zam Oranı Girilen İşçinin Zamlı Maaşını Hesaplayan Program"
   ]
  },
  {
   "cell_type": "code",
   "execution_count": 10,
   "metadata": {},
   "outputs": [
    {
     "name": "stdout",
     "output_type": "stream",
     "text": [
      "Maaşınızı Giriniz=1234\n",
      "Zam Oranını Giriniz=21\n",
      "Zamlı Maaşınız= 1493.14 TL\n"
     ]
    }
   ],
   "source": [
    "eski_maas  = input(\"Maaşınızı Giriniz=\")\n",
    "zam_orani  = input(\"Zam Oranını Giriniz=\")\n",
    "yeni_maas  = float(eski_maas) + float(eski_maas)/100 * float(zam_orani)\n",
    "print(\"Zamlı Maaşınız=\",round(yeni_maas,2),\"TL\")"
   ]
  },
  {
   "cell_type": "code",
   "execution_count": null,
   "metadata": {},
   "outputs": [],
   "source": []
  }
 ],
 "metadata": {
  "kernelspec": {
   "display_name": "Python 3",
   "language": "python",
   "name": "python3"
  },
  "language_info": {
   "codemirror_mode": {
    "name": "ipython",
    "version": 3
   },
   "file_extension": ".py",
   "mimetype": "text/x-python",
   "name": "python",
   "nbconvert_exporter": "python",
   "pygments_lexer": "ipython3",
   "version": "3.7.0"
  }
 },
 "nbformat": 4,
 "nbformat_minor": 2
}
