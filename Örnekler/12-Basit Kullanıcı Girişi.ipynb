{
 "cells": [
  {
   "cell_type": "markdown",
   "metadata": {},
   "source": [
    "Basit Kullanıcı Girişini Sağlayan Program"
   ]
  },
  {
   "cell_type": "code",
   "execution_count": 6,
   "metadata": {},
   "outputs": [
    {
     "name": "stdout",
     "output_type": "stream",
     "text": [
      "*********************************\n",
      "\n",
      "Kullanıcı Girişi\n",
      "\n",
      "*********************************\n",
      "\n",
      "Kullanıcı Adınızı Giriniz:serkan\n",
      "Parolanızı Adınızı Giriniz:345\n",
      "\n",
      "Parolanız Hatalı....\n"
     ]
    }
   ],
   "source": [
    "username1 = \"serkan\"\n",
    "password1 = \"123\"\n",
    "print(\"*********************************\")\n",
    "print(\"\")\n",
    "print(\"Kullanıcı Girişi\")\n",
    "print(\"\")\n",
    "print(\"*********************************\")\n",
    "print(\"\")\n",
    "username2 = input(\"Kullanıcı Adınızı Giriniz:\")\n",
    "password2 = input(\"Parolanızı Adınızı Giriniz:\")\n",
    "if (username2 == username1) and (password2 == password1):\n",
    "    print(\"\\nSisteme Giriş Yapıldı....\")\n",
    "if(username2 != username1) and (password2 == password1):\n",
    "    print(\"\\nKullanıcı İsminiz Hatalı....\")\n",
    "if(username2 == username1) and (password2 != password1):\n",
    "    print(\"\\nParolanız Hatalı....\")\n",
    "if(username2 != username1) and (password2 != password1):\n",
    "    print(\"\\nKullanıcı İsminiz ve Parolanız Hatalı....\")"
   ]
  }
 ],
 "metadata": {
  "kernelspec": {
   "display_name": "Python 3",
   "language": "python",
   "name": "python3"
  },
  "language_info": {
   "codemirror_mode": {
    "name": "ipython",
    "version": 3
   },
   "file_extension": ".py",
   "mimetype": "text/x-python",
   "name": "python",
   "nbconvert_exporter": "python",
   "pygments_lexer": "ipython3",
   "version": "3.7.0"
  }
 },
 "nbformat": 4,
 "nbformat_minor": 2
}
