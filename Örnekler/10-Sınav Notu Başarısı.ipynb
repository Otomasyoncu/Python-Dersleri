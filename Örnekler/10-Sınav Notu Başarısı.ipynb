{
 "cells": [
  {
   "cell_type": "markdown",
   "metadata": {},
   "source": [
    "Girilen sınav notunun başarısını gösteren program"
   ]
  },
  {
   "cell_type": "code",
   "execution_count": 9,
   "metadata": {},
   "outputs": [
    {
     "name": "stdout",
     "output_type": "stream",
     "text": [
      "Sınav Notunuzu Giriniz:57\n",
      "Geçer\n"
     ]
    }
   ],
   "source": [
    "sayi1 = input(\"Sınav Notunuzu Giriniz:\")\n",
    "sayi2 = int(sayi1)\n",
    "if sayi2>-1 and sayi2<101:\n",
    "    if sayi2>-1 and sayi2<50:\n",
    "        print(\"Başarısız\")\n",
    "    elif sayi2>49 and sayi2<60:\n",
    "        print(\"Geçer\")\n",
    "    elif sayi2>59 and sayi2<70:  \n",
    "        print(\"Orta\")\n",
    "    elif sayi2>69 and sayi2<85:\n",
    "        print(\"İyi\")\n",
    "    elif sayi2>84 and sayi2<101 :\n",
    "        print(\"Pekiyi\")\n",
    "else:\n",
    "    print(\"Girdiğiniz sayı 0 ile 100 arasında değildir\")"
   ]
  }
 ],
 "metadata": {
  "kernelspec": {
   "display_name": "Python 3",
   "language": "python",
   "name": "python3"
  },
  "language_info": {
   "codemirror_mode": {
    "name": "ipython",
    "version": 3
   },
   "file_extension": ".py",
   "mimetype": "text/x-python",
   "name": "python",
   "nbconvert_exporter": "python",
   "pygments_lexer": "ipython3",
   "version": "3.7.0"
  }
 },
 "nbformat": 4,
 "nbformat_minor": 2
}
