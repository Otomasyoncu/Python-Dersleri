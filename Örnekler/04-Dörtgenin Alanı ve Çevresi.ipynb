{
 "cells": [
  {
   "cell_type": "markdown",
   "metadata": {},
   "source": [
    "Kenarları Girilen Dörtgenin Alanı ve Çevresini Bulan Program"
   ]
  },
  {
   "cell_type": "code",
   "execution_count": 1,
   "metadata": {},
   "outputs": [
    {
     "name": "stdout",
     "output_type": "stream",
     "text": [
      "Kısa Kenarı Giriniz=3\n",
      "Uzun Kenarı Giriniz=5\n",
      "Çevresi = 16\n",
      "Alanı   = 15\n"
     ]
    }
   ],
   "source": [
    "kisa_kenar = input(\"Kısa Kenarı Giriniz=\")\n",
    "uzun_kenar = input(\"Uzun Kenarı Giriniz=\")\n",
    "cevresi    = (int(kisa_kenar) + int(uzun_kenar))*2\n",
    "alani      = int(kisa_kenar) * int(uzun_kenar)\n",
    "print(\"Çevresi =\",cevresi)\n",
    "print(\"Alanı   =\",alani)"
   ]
  }
 ],
 "metadata": {
  "kernelspec": {
   "display_name": "Python 3",
   "language": "python",
   "name": "python3"
  },
  "language_info": {
   "codemirror_mode": {
    "name": "ipython",
    "version": 3
   },
   "file_extension": ".py",
   "mimetype": "text/x-python",
   "name": "python",
   "nbconvert_exporter": "python",
   "pygments_lexer": "ipython3",
   "version": "3.7.0"
  }
 },
 "nbformat": 4,
 "nbformat_minor": 2
}
