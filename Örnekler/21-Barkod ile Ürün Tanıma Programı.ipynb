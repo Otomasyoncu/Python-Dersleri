{
 "cells": [
  {
   "attachments": {},
   "cell_type": "markdown",
   "metadata": {},
   "source": [
    "Okutulan Ürün Barkodunun İsim, Gram ve Kilo Fiyatlarını Gösteren Program\n",
    "\n",
    "          B.K  ÜRÜN ADI\t     B.K\tGRAM    \t  B.K\tFİYATI (Kilo)       \n",
    "          11   MAKARNA\t       21\t100\t    \t31\t    15\t               \n",
    "          12   DETERJAN\t      22\t250\t\t    32\t    06               \n",
    "          13   BULGUR\t\t    23\t500\t\t    33\t    08                 \t\n",
    "          14   PEYNİR\t\t    24\t750\t\t    34\t    10                \n",
    "          15   ŞEKER\t\t     25\t1000\t       35\t    05"
   ]
  },
  {
   "cell_type": "code",
   "execution_count": null,
   "metadata": {},
   "outputs": [
    {
     "name": "stdout",
     "output_type": "stream",
     "text": [
      "Ürün Barkodunu Okutunuz:132432\n",
      "*********************\n",
      "Ürün İsmi   : BULGUR\n",
      "Ürün Gramı  : 750.0\n",
      "Kilo Fiyatı : 6.0\n",
      "Paket Fiyatı: 4.5\n",
      "*********************\n"
     ]
    }
   ],
   "source": [
    "def urun_adi(barkod1):\n",
    "    sonuc = \"\"\n",
    "    if barkod1 == \"11\":\n",
    "        sonuc=\"MAKARNA\"\n",
    "    elif barkod1 == \"12\":\n",
    "        sonuc = \"DETERJAN\"\n",
    "    elif barkod1 == \"13\":\n",
    "        sonuc = \"BULGUR\"\n",
    "    elif barkod1 == \"14\":\n",
    "        sonuc = \"PEYNİR\"\n",
    "    elif barkod1 == \"15\":\n",
    "        sonuc = \"ŞEKER\"\n",
    "    else:\n",
    "        sonuc = \"Bilinmiyor\"\n",
    "    return sonuc\n",
    "\n",
    "def urun_gram(barkod2):\n",
    "    sonuc = 0.0\n",
    "    if barkod2 == \"21\":\n",
    "        sonuc = 100.0\n",
    "    elif barkod2 == \"22\":\n",
    "        sonuc = 250.0\n",
    "    elif barkod2 == \"23\":\n",
    "        sonuc = 500.0\n",
    "    elif barkod2 == \"24\":\n",
    "        sonuc = 750.0\n",
    "    elif barkod2 == \"25\":\n",
    "        sonuc = 1000.0\n",
    "    else:\n",
    "        sonuc = 0.0\n",
    "    return sonuc\n",
    "\n",
    "def urun_fiyat(barkod3):\n",
    "    sonuc = 0.0\n",
    "    if barkod3 == \"31\":\n",
    "        sonuc = 15.0\n",
    "    elif barkod3 == \"32\":\n",
    "        sonuc = 6.0\n",
    "    elif barkod3 == \"33\":\n",
    "        sonuc = 8.0\n",
    "    elif barkod3 == \"34\":\n",
    "        sonuc = 10.0\n",
    "    elif barkod3 == \"35\":\n",
    "        sonuc = 5.0\n",
    "    else:\n",
    "        sonuc = 0.0\n",
    "    return sonuc\n",
    "\n",
    "while 2>1 :\n",
    "    barkod_no =input(\"Ürün Barkodunu Okutunuz:\")\n",
    "\n",
    "    if (barkod_no == \"99\"):\n",
    "        break\n",
    "\n",
    "    barkod1 = barkod_no[0:2]\n",
    "    barkod2 = barkod_no[2:4]\n",
    "    barkod3 = barkod_no[4:6]\n",
    "\n",
    "    ismi  = urun_adi(barkod1)\n",
    "    grami = urun_gram(barkod2)\n",
    "    fiyati= urun_fiyat(barkod3)\n",
    "\n",
    "    print(\"*********************\")\n",
    "    print(\"Ürün İsmi   :\" , ismi)\n",
    "    print(\"Ürün Gramı  :\" , grami)\n",
    "    print(\"Kilo Fiyatı :\" , fiyati)\n",
    "    print(\"Paket Fiyatı:\" , fiyati/1000*grami)\n",
    "    print(\"*********************\")"
   ]
  }
 ],
 "metadata": {
  "kernelspec": {
   "display_name": "Python 3",
   "language": "python",
   "name": "python3"
  },
  "language_info": {
   "codemirror_mode": {
    "name": "ipython",
    "version": 3
   },
   "file_extension": ".py",
   "mimetype": "text/x-python",
   "name": "python",
   "nbconvert_exporter": "python",
   "pygments_lexer": "ipython3",
   "version": "3.7.0"
  }
 },
 "nbformat": 4,
 "nbformat_minor": 2
}
