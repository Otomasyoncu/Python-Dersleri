{
 "cells": [
  {
   "cell_type": "markdown",
   "metadata": {},
   "source": [
    "Girilen Sayının Pozitif, Negatif, ya da Sıfır Olduğunu Gösteren Program"
   ]
  },
  {
   "cell_type": "code",
   "execution_count": 3,
   "metadata": {},
   "outputs": [
    {
     "name": "stdout",
     "output_type": "stream",
     "text": [
      "Sayi Giriniz0\n",
      "Girdiğiniz Sayı Sıfır\n"
     ]
    }
   ],
   "source": [
    "sayi = input(\"Sayi Giriniz=\")\n",
    "if(int(sayi)<0):\n",
    "      print(\"Girdiğiniz Sayı Negatif\")\n",
    "elif(int(sayi)>0):\n",
    "      print(\"Girdiğiniz Sayı Pozitif\")\n",
    "else:\n",
    "      print(\"Girdiğiniz Sayı Sıfır\")"
   ]
  }
 ],
 "metadata": {
  "kernelspec": {
   "display_name": "Python 3",
   "language": "python",
   "name": "python3"
  },
  "language_info": {
   "codemirror_mode": {
    "name": "ipython",
    "version": 3
   },
   "file_extension": ".py",
   "mimetype": "text/x-python",
   "name": "python",
   "nbconvert_exporter": "python",
   "pygments_lexer": "ipython3",
   "version": "3.7.0"
  }
 },
 "nbformat": 4,
 "nbformat_minor": 2
}
