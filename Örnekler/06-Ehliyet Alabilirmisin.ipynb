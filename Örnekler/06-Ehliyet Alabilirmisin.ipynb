{
 "cells": [
  {
   "cell_type": "markdown",
   "metadata": {},
   "source": [
    "Yaşı Girilen Kişinin Ehliyet Alıp Alamayacağını Gösteren Program"
   ]
  },
  {
   "cell_type": "code",
   "execution_count": null,
   "metadata": {},
   "outputs": [],
   "source": [
    "yas = input(\"Yaşınızı Giriniz=\")\n",
    "if(int(yas)<18):\n",
    "      print(\"Ehliyet Alamazsınız\")\n",
    "else:\n",
    "      print(\"Ehliyet Alabilirsiniz\")"
   ]
  }
 ],
 "metadata": {
  "kernelspec": {
   "display_name": "Python 3",
   "language": "python",
   "name": "python3"
  },
  "language_info": {
   "codemirror_mode": {
    "name": "ipython",
    "version": 3
   },
   "file_extension": ".py",
   "mimetype": "text/x-python",
   "name": "python",
   "nbconvert_exporter": "python",
   "pygments_lexer": "ipython3",
   "version": "3.7.0"
  }
 },
 "nbformat": 4,
 "nbformat_minor": 2
}
