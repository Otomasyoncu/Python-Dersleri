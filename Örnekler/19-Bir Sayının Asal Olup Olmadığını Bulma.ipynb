{
 "cells": [
  {
   "cell_type": "markdown",
   "metadata": {},
   "source": [
    "Klavyeden Girilen Bir Sayının Asal Olup, Olmadığını Bulan Program   (ASAL SAYI, KENDİNDEN VE BİRDEN BAŞKA BÖLENİ OLMAYAN SAYIDIR.) "
   ]
  },
  {
   "cell_type": "code",
   "execution_count": 2,
   "metadata": {},
   "outputs": [
    {
     "name": "stdout",
     "output_type": "stream",
     "text": [
      " Bir Sayı Giriniz:67\n",
      "67 asal bir sayıdır.\n"
     ]
    }
   ],
   "source": [
    "def asalmi(sayi):\n",
    "    sonuc = \"asaldir\"\n",
    "    for a in range(2,sayi):\n",
    "        if (sayi % a == 0 ):\n",
    "            sonuc = \"asal degildir\"\n",
    "    return sonuc\n",
    "\n",
    "a = int(input(\" Bir Sayı Giriniz:\"))\n",
    "b= asalmi(a)\n",
    "if (b == \"asaldir\"):\n",
    "    print(a, \"asal bir sayıdır.\")\n",
    "else:\n",
    "    print(a,\"asal bir sayı değildir.\")"
   ]
  }
 ],
 "metadata": {
  "kernelspec": {
   "display_name": "Python 3",
   "language": "python",
   "name": "python3"
  },
  "language_info": {
   "codemirror_mode": {
    "name": "ipython",
    "version": 3
   },
   "file_extension": ".py",
   "mimetype": "text/x-python",
   "name": "python",
   "nbconvert_exporter": "python",
   "pygments_lexer": "ipython3",
   "version": "3.7.0"
  }
 },
 "nbformat": 4,
 "nbformat_minor": 2
}
