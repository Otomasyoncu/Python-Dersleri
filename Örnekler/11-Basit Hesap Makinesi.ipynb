{
 "cells": [
  {
   "cell_type": "markdown",
   "metadata": {},
   "source": [
    "Kullanıcı Tarafından Girilen Birinci Sayı ve İkinci Sayıya Toplama, Çıkarma, Çarpma ve Bölme İşlemi Yapan Program"
   ]
  },
  {
   "cell_type": "code",
   "execution_count": 2,
   "metadata": {},
   "outputs": [
    {
     "name": "stdout",
     "output_type": "stream",
     "text": [
      "*********************************\n",
      "Hesap Makinası\n",
      "\n",
      "Toplama için : +\n",
      "Çıkarma için : -\n",
      "Çarpma  için : *\n",
      "Bölme   için : /\n",
      "\n",
      "*********************************\n",
      "\n",
      "Birinci Sayıyı Giriniz:56\n",
      "Yapılacak İşlemi Giriniz:*\n",
      "İkinci Sayıyı Giriniz:12\n",
      "\n",
      "Sonucunuz: 672.0\n"
     ]
    }
   ],
   "source": [
    "print(\"*********************************\")\n",
    "print(\"Hesap Makinası\")\n",
    "print(\"\")\n",
    "print(\"Toplama için : +\")\n",
    "print(\"Çıkarma için : -\")\n",
    "print(\"Çarpma  için : *\")\n",
    "print(\"Bölme   için : /\")\n",
    "print(\"\")\n",
    "print(\"*********************************\")\n",
    "print(\"\")\n",
    "sayi1 = float(input(\"Birinci Sayıyı Giriniz:\"))\n",
    "islem = input(\"Yapılacak İşlemi Giriniz:\")\n",
    "sayi2 = float(input(\"İkinci Sayıyı Giriniz:\"))\n",
    "if islem == \"+\":\n",
    "    print(\"\")\n",
    "    print(\"Sonucunuz:\", sayi1 + sayi2)\n",
    "elif islem == \"-\":\n",
    "    print(\"\")\n",
    "    print(\"Sonucunuz:\", sayi1 - sayi2)\n",
    "elif islem == \"*\":\n",
    "    print(\"\")\n",
    "    print(\"Sonucunuz:\", sayi1 * sayi2)\n",
    "elif islem == \"/\":\n",
    "    print(\"\")\n",
    "    print(\"Sonucunuz:\", sayi1 / sayi2)\n",
    "else:\n",
    "    print(\"\")\n",
    "    print(\"Hatalı İşlem istediniz\")"
   ]
  }
 ],
 "metadata": {
  "kernelspec": {
   "display_name": "Python 3",
   "language": "python",
   "name": "python3"
  },
  "language_info": {
   "codemirror_mode": {
    "name": "ipython",
    "version": 3
   },
   "file_extension": ".py",
   "mimetype": "text/x-python",
   "name": "python",
   "nbconvert_exporter": "python",
   "pygments_lexer": "ipython3",
   "version": "3.7.0"
  }
 },
 "nbformat": 4,
 "nbformat_minor": 2
}
