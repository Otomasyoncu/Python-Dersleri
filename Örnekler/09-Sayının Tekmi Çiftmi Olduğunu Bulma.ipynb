{
 "cells": [
  {
   "cell_type": "markdown",
   "metadata": {},
   "source": [
    "Girilen Sayının Tek mi Çift mi Olduğunu Bulan Program"
   ]
  },
  {
   "cell_type": "code",
   "execution_count": 3,
   "metadata": {},
   "outputs": [
    {
     "name": "stdout",
     "output_type": "stream",
     "text": [
      "Sayı Giriniz33\n",
      "Girdiğiniz Sayı Tektir\n"
     ]
    }
   ],
   "source": [
    "sayi  = input(\"Sayı Giriniz\")\n",
    "kalan = int(sayi)%2\n",
    "if(int(kalan)==0):\n",
    "      print(\"Girdiğiniz Sayı Çifttir\")\n",
    "else:\n",
    "      print(\"Girdiğiniz Sayı Tektir\")"
   ]
  }
 ],
 "metadata": {
  "kernelspec": {
   "display_name": "Python 3",
   "language": "python",
   "name": "python3"
  },
  "language_info": {
   "codemirror_mode": {
    "name": "ipython",
    "version": 3
   },
   "file_extension": ".py",
   "mimetype": "text/x-python",
   "name": "python",
   "nbconvert_exporter": "python",
   "pygments_lexer": "ipython3",
   "version": "3.7.0"
  }
 },
 "nbformat": 4,
 "nbformat_minor": 2
}
