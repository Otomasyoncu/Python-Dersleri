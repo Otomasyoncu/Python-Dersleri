{
 "cells": [
  {
   "cell_type": "markdown",
   "metadata": {},
   "source": [
    "Üç Hak Kullanarak Başarılı Bir Kullanıcı Girişi sağlayan Program (while ile)"
   ]
  },
  {
   "cell_type": "code",
   "execution_count": 1,
   "metadata": {},
   "outputs": [
    {
     "name": "stdout",
     "output_type": "stream",
     "text": [
      "****************\n",
      "Kullanıcı Girişi\n",
      "****************\n",
      "Kullanıcı Adı:serkan\n",
      "Parola:123\n",
      "Başarıyla Giriş Yaptınız...\n"
     ]
    }
   ],
   "source": [
    "print(\"****************\")\n",
    "print(\"Kullanıcı Girişi\")\n",
    "print(\"****************\")\n",
    "kul_adi = \"serkan\"\n",
    "kul_parola  = \"123\"\n",
    "giriş_hakkı = 3\n",
    "while 3<5:\n",
    "    kullanıcı_adı = input(\"Kullanıcı Adı:\")\n",
    "    parola = input(\"Parola:\")\n",
    "    if (kullanıcı_adı != kul_adi and parola == kul_parola):\n",
    "        print(\"Kullanıcı Adı Hatalı...\")\n",
    "        giriş_hakkı -= 1\n",
    "        print(\"Giriş Hakkı: \", giriş_hakkı)\n",
    "    elif (kullanıcı_adı == kul_adi and parola != kul_parola):\n",
    "        print(\"Parola Hatalı...\")\n",
    "        giriş_hakkı -= 1\n",
    "        print(\"Giriş Hakkı: \", giriş_hakkı)\n",
    "    elif (kullanıcı_adı != kul_adi and parola != kul_parola):\n",
    "        print(\"Kullanıcı Adı ve Parola Hatalı...\")\n",
    "        giriş_hakkı -= 1\n",
    "        print(\"Giriş Hakkı: \", giriş_hakkı)\n",
    "    else:\n",
    "        print(\"Başarıyla Giriş Yaptınız...\")\n",
    "        break\n",
    "    if (giriş_hakkı == 0 ):\n",
    "        print(\"Giriş Hakkınız Bitti...\")\n",
    "        break"
   ]
  }
 ],
 "metadata": {
  "kernelspec": {
   "display_name": "Python 3",
   "language": "python",
   "name": "python3"
  },
  "language_info": {
   "codemirror_mode": {
    "name": "ipython",
    "version": 3
   },
   "file_extension": ".py",
   "mimetype": "text/x-python",
   "name": "python",
   "nbconvert_exporter": "python",
   "pygments_lexer": "ipython3",
   "version": "3.7.0"
  }
 },
 "nbformat": 4,
 "nbformat_minor": 2
}
