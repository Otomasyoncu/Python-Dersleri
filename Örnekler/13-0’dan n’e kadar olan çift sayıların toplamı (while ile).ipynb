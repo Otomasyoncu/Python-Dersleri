{
 "cells": [
  {
   "cell_type": "markdown",
   "metadata": {},
   "source": [
    "0’dan n’e kadar olan çift sayıların toplamını yazdıran program (while ile)"
   ]
  },
  {
   "cell_type": "code",
   "execution_count": 2,
   "metadata": {},
   "outputs": [
    {
     "name": "stdout",
     "output_type": "stream",
     "text": [
      "Bir Sayi Giriniz:10\n",
      "Sayıların toplam: 42\n"
     ]
    }
   ],
   "source": [
    "n = int(input(\"Bir Sayi Giriniz:\"))\n",
    "sayac = 0\n",
    "toplam= 0\n",
    "while sayac <= n:\n",
    "    sayac=sayac+ 2\n",
    "    toplam=toplam+sayac\n",
    "print(\"Sayıların toplam:\",toplam)"
   ]
  }
 ],
 "metadata": {
  "kernelspec": {
   "display_name": "Python 3",
   "language": "python",
   "name": "python3"
  },
  "language_info": {
   "codemirror_mode": {
    "name": "ipython",
    "version": 3
   },
   "file_extension": ".py",
   "mimetype": "text/x-python",
   "name": "python",
   "nbconvert_exporter": "python",
   "pygments_lexer": "ipython3",
   "version": "3.7.0"
  }
 },
 "nbformat": 4,
 "nbformat_minor": 2
}
