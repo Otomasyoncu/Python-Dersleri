{
 "cells": [
  {
   "cell_type": "markdown",
   "metadata": {},
   "source": [
    "Klavyeden Girilen Sayının Tam Bölenleri Bulan Program"
   ]
  },
  {
   "cell_type": "code",
   "execution_count": 4,
   "metadata": {},
   "outputs": [
    {
     "name": "stdout",
     "output_type": "stream",
     "text": [
      "Bir Sayı Giriniz=78\n",
      "-1-2-3-6-13-26-39-78\n"
     ]
    }
   ],
   "source": [
    "def bolenleribul(sayi):\n",
    "    bolen_sayilar = \"\" \"\"\n",
    "    for i in range(1,sayi+1):\n",
    "        if (sayi % i == 0):\n",
    "            bolen_sayilar = bolen_sayilar + \"-\" + str(i)\n",
    "    return bolen_sayilar\n",
    "\n",
    "a = int(input(\"Bir Sayı Giriniz=\"))\n",
    "sonuc=bolenleribul(a)\n",
    "print(sonuc)"
   ]
  }
 ],
 "metadata": {
  "kernelspec": {
   "display_name": "Python 3",
   "language": "python",
   "name": "python3"
  },
  "language_info": {
   "codemirror_mode": {
    "name": "ipython",
    "version": 3
   },
   "file_extension": ".py",
   "mimetype": "text/x-python",
   "name": "python",
   "nbconvert_exporter": "python",
   "pygments_lexer": "ipython3",
   "version": "3.7.0"
  }
 },
 "nbformat": 4,
 "nbformat_minor": 2
}
