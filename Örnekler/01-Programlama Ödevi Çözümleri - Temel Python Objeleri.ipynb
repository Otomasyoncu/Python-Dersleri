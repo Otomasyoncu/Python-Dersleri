{
 "cells": [
  {
   "cell_type": "markdown",
   "metadata": {},
   "source": [
    "## Çözümler\n",
    "\n",
    "### Soru 1"
   ]
  },
  {
   "cell_type": "code",
   "execution_count": 2,
   "metadata": {},
   "outputs": [
    {
     "name": "stdout",
     "output_type": "stream",
     "text": [
      "a:3\n",
      "b:4\n",
      "c:5\n",
      "Sonuc =  60\n"
     ]
    }
   ],
   "source": [
    "a = int(input(\"a:\"))\n",
    "b = int(input(\"b:\"))\n",
    "c = int(input(\"c:\"))\n",
    "\n",
    "carpım = a * b * c\n",
    "\n",
    "print(\"Sonuc = \",carpım)"
   ]
  },
  {
   "cell_type": "markdown",
   "metadata": {},
   "source": [
    "### Soru 2"
   ]
  },
  {
   "cell_type": "code",
   "execution_count": 3,
   "metadata": {},
   "outputs": [
    {
     "name": "stdout",
     "output_type": "stream",
     "text": [
      "Boy:1.75\n",
      "Kilo:82\n",
      "Beden Kitle İndeksi: 26.78\n"
     ]
    }
   ],
   "source": [
    "boy  = float(input(\"Boy:\"))\n",
    "kilo = float(input(\"Kilo:\"))\n",
    "sonuc1= kilo / (boy ** 2)\n",
    "sonuc2= round(sonuc1,2)\n",
    "print(\"Beden Kitle İndeksi:\",sonuc2)"
   ]
  },
  {
   "cell_type": "markdown",
   "metadata": {},
   "source": [
    "### Soru 3"
   ]
  },
  {
   "cell_type": "code",
   "execution_count": 5,
   "metadata": {},
   "outputs": [
    {
     "name": "stdout",
     "output_type": "stream",
     "text": [
      "Kilometrede yakan miktar:0.38\n",
      "Kaç km yol yaptınız:450\n",
      "Tutar: 171.0\n"
     ]
    }
   ],
   "source": [
    "yakan_miktar = float(input(\"Kilometrede yakan miktar:\"))\n",
    "\n",
    "kilometre = float(input(\"Kaç km yol yaptınız:\"))\n",
    "\n",
    "print(\"Tutar:\",yakan_miktar * kilometre)"
   ]
  },
  {
   "cell_type": "markdown",
   "metadata": {},
   "source": [
    "### Soru 4"
   ]
  },
  {
   "cell_type": "code",
   "execution_count": 6,
   "metadata": {},
   "outputs": [
    {
     "name": "stdout",
     "output_type": "stream",
     "text": [
      "Ad:Serkan\n",
      "Soyad:Köse\n",
      "Numara:1453\n",
      "\n",
      "Bilgiler...\n",
      "\n",
      "Serkan\n",
      "Köse\n",
      "1453\n"
     ]
    }
   ],
   "source": [
    "ad = input(\"Ad:\")\n",
    "soyad = input(\"Soyad:\")\n",
    "numara = input(\"Numara:\")\n",
    "print(\"\\nBilgiler...\\n\")\n",
    "print(ad)\n",
    "print(soyad)\n",
    "print(numara)"
   ]
  },
  {
   "cell_type": "markdown",
   "metadata": {},
   "source": [
    "### Soru 5"
   ]
  },
  {
   "cell_type": "code",
   "execution_count": 8,
   "metadata": {},
   "outputs": [
    {
     "name": "stdout",
     "output_type": "stream",
     "text": [
      "a:2\n",
      "b:5\n",
      "Değiştirilmeden Önceki Değerler\n",
      "a: 2\n",
      "b: 5\n",
      "Değiştirildikten Sonraki Değerler\n",
      "a: 5\n",
      "b: 2\n"
     ]
    }
   ],
   "source": [
    "a = input(\"a:\")\n",
    "b = input(\"b:\")\n",
    "\n",
    "print(\"Değiştirilmeden Önceki Değerler\")\n",
    "print(\"a:\",a)\n",
    "print(\"b:\",b)\n",
    "\n",
    "a,b = b,a\n",
    "\n",
    "print(\"Değiştirildikten Sonraki Değerler\")\n",
    "print(\"a:\",a)\n",
    "print(\"b:\",b)\n"
   ]
  },
  {
   "cell_type": "markdown",
   "metadata": {},
   "source": [
    "### Soru 6"
   ]
  },
  {
   "cell_type": "code",
   "execution_count": 10,
   "metadata": {},
   "outputs": [
    {
     "name": "stdout",
     "output_type": "stream",
     "text": [
      "a:3\n",
      "b:4\n",
      "Hipotenüs:  5.0\n"
     ]
    }
   ],
   "source": [
    "a = int(input(\"a:\"))\n",
    "\n",
    "b = int(input(\"b:\"))\n",
    "\n",
    "c =  (a ** 2 + b ** 2) ** 0.5\n",
    "\n",
    "print(\"Hipotenüs: \",c)\n"
   ]
  }
 ],
 "metadata": {
  "kernelspec": {
   "display_name": "Python 3",
   "language": "python",
   "name": "python3"
  },
  "language_info": {
   "codemirror_mode": {
    "name": "ipython",
    "version": 3
   },
   "file_extension": ".py",
   "mimetype": "text/x-python",
   "name": "python",
   "nbconvert_exporter": "python",
   "pygments_lexer": "ipython3",
   "version": "3.7.0"
  }
 },
 "nbformat": 4,
 "nbformat_minor": 2
}
