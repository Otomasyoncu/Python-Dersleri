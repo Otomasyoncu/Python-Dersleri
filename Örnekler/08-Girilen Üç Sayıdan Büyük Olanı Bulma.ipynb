{
 "cells": [
  {
   "cell_type": "markdown",
   "metadata": {},
   "source": [
    "Klavyeden Girilen Üç Sayıdan Büyük Olan Sayısı Bulan Program"
   ]
  },
  {
   "cell_type": "code",
   "execution_count": 2,
   "metadata": {},
   "outputs": [
    {
     "name": "stdout",
     "output_type": "stream",
     "text": [
      "1. Sayıyı Giriniz=2\n",
      "2. Sayıyı Giriniz=3\n",
      "3. Sayıyı Giriniz=1\n",
      "2 , 3 ve 1 içinde büyük olan sayı 3\n"
     ]
    }
   ],
   "source": [
    "sayi1 = int(input(\"1. Sayıyı Giriniz=\"))\n",
    "sayi2 = int(input(\"2. Sayıyı Giriniz=\"))\n",
    "sayi3 = int(input(\"3. Sayıyı Giriniz=\"))\n",
    " \n",
    "if (sayi1 >= sayi2) and (sayi1 >= sayi3):\n",
    "   buyuk = sayi1\n",
    "elif (sayi2 >= sayi1) and (sayi2 >= sayi3):\n",
    "   buyuk = sayi2\n",
    "else:\n",
    "   buyuk = sayi3 \n",
    "print(sayi1,\",\",sayi2,\"ve\",sayi3,\"içinde büyük olan sayı\",buyuk)"
   ]
  }
 ],
 "metadata": {
  "kernelspec": {
   "display_name": "Python 3",
   "language": "python",
   "name": "python3"
  },
  "language_info": {
   "codemirror_mode": {
    "name": "ipython",
    "version": 3
   },
   "file_extension": ".py",
   "mimetype": "text/x-python",
   "name": "python",
   "nbconvert_exporter": "python",
   "pygments_lexer": "ipython3",
   "version": "3.7.0"
  }
 },
 "nbformat": 4,
 "nbformat_minor": 2
}
