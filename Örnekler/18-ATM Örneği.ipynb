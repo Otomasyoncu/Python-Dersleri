{
 "cells": [
  {
   "cell_type": "markdown",
   "metadata": {},
   "source": [
    "ATM den Bakiye Sorgulama, Para Çekme ve Para Yatırma İşlemlerini Yapan Program"
   ]
  },
  {
   "cell_type": "code",
   "execution_count": 1,
   "metadata": {},
   "outputs": [
    {
     "name": "stdout",
     "output_type": "stream",
     "text": [
      "\n",
      "*************************\n",
      "ATM sistemine hoşgeldiniz\n",
      "*************************\n",
      "\n",
      "İŞLEMLER:\n",
      "1. Bakiye Sorgulama\n",
      "2. Para Yatırma\n",
      "3. Para Çekme\n",
      "\n",
      "Programdan 'q' tuşu ile çıkabilirsiniz.\n",
      "\n",
      "İşlemi giriniz:2\n",
      "Yatırmak istediğiniz tutar:500\n",
      "Para Yatırma İşleminiz Tamamlandı.\n",
      "İşlemi giriniz:q\n",
      "Yine bekleriz....\n"
     ]
    }
   ],
   "source": [
    "print(\"\"\"\n",
    "*************************\n",
    "ATM sistemine hoşgeldiniz\n",
    "*************************\n",
    "\n",
    "İŞLEMLER:\n",
    "1. Bakiye Sorgulama\n",
    "2. Para Yatırma\n",
    "3. Para Çekme\n",
    "\n",
    "Programdan 'q' tuşu ile çıkabilirsiniz.\n",
    "\"\"\")\n",
    "bakiye  = 1000\n",
    "while 2>1:\n",
    "    işlem = input(\"İşlemi giriniz:\")\n",
    "    if (işlem == \"1\"):\n",
    "        print(\"Bakiyeniz\",bakiye,\"tldir\")\n",
    "    elif (işlem == \"2\"):\n",
    "        miktar = int(input(\"Yatırmak istediğiniz tutar:\"))\n",
    "        bakiye = bakiye + miktar\n",
    "        print(\"Para Yatırma İşleminiz Tamamlandı.\")\n",
    "    elif (işlem == \"3\"):\n",
    "        miktar = int(input(\"Çekmek istediğiniz tutar:\"))\n",
    "        bakiye = bakiye - miktar\n",
    "        print(\"Para Çekme İşleminiz Tamamlandı.\")\n",
    "    elif (işlem == \"q\"):\n",
    "        print(\"Yine bekleriz....\")\n",
    "        break\n",
    "    else:\n",
    "        print(\"Lütfen geçerli bir işlem giriniz.\")"
   ]
  }
 ],
 "metadata": {
  "kernelspec": {
   "display_name": "Python 3",
   "language": "python",
   "name": "python3"
  },
  "language_info": {
   "codemirror_mode": {
    "name": "ipython",
    "version": 3
   },
   "file_extension": ".py",
   "mimetype": "text/x-python",
   "name": "python",
   "nbconvert_exporter": "python",
   "pygments_lexer": "ipython3",
   "version": "3.7.0"
  }
 },
 "nbformat": 4,
 "nbformat_minor": 2
}
