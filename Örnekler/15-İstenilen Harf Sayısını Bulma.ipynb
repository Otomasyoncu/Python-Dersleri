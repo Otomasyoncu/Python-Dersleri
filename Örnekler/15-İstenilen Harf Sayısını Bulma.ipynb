{
 "cells": [
  {
   "cell_type": "markdown",
   "metadata": {},
   "source": [
    "Klavyeden Girilen Bir Şehrin, İstenilen Harfin Sayısını Bulan Program"
   ]
  },
  {
   "cell_type": "code",
   "execution_count": 22,
   "metadata": {},
   "outputs": [
    {
     "name": "stdout",
     "output_type": "stream",
     "text": [
      "Bir Şehir Giriniz:adana\n",
      "Aranacak Harf Giriniz:a\n",
      "Harf sayisi: 3\n"
     ]
    }
   ],
   "source": [
    "sehir = input(\"Bir Şehir Giriniz:\")\n",
    "harf  = input (\"Aranacak Harf Giriniz:\")\n",
    "adet=0\n",
    "for i in sehir:\n",
    "    if(i == harf):\n",
    "        adet = adet + 1\n",
    "print(\"Harf sayisi:\",adet)"
   ]
  }
 ],
 "metadata": {
  "kernelspec": {
   "display_name": "Python 3",
   "language": "python",
   "name": "python3"
  },
  "language_info": {
   "codemirror_mode": {
    "name": "ipython",
    "version": 3
   },
   "file_extension": ".py",
   "mimetype": "text/x-python",
   "name": "python",
   "nbconvert_exporter": "python",
   "pygments_lexer": "ipython3",
   "version": "3.7.0"
  }
 },
 "nbformat": 4,
 "nbformat_minor": 2
}
