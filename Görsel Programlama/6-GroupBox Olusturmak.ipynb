{
 "cells": [
  {
   "cell_type": "code",
   "execution_count": null,
   "metadata": {},
   "outputs": [],
   "source": [
    "import sys\n",
    "from PyQt5 import QtWidgets, QtGui\n",
    "from PyQt5.QtCore import *\n",
    "uygulama = QtWidgets.QApplication(sys.argv)\n",
    "\n",
    "pencere01 = QtWidgets.QWidget()\n",
    "pencere01.setWindowTitle(\"Serkan Köse\")\n",
    "pencere01.setGeometry(400, 150, 400, 400)\n",
    "pencere01.setWindowIcon(QtGui.QIcon(\"logo.ico\"))\n",
    "\n",
    "grupbox01 = QtWidgets.QGroupBox(pencere01)\n",
    "grupbox01.setTitle(\"\")\n",
    "grupbox01.setGeometry(10, 10, 180, 100)\n",
    "#grupbox01.setStyleSheet(\"background-color: red\")\n",
    "\n",
    "grupbox02 = QtWidgets.QGroupBox(pencere01)\n",
    "grupbox02.setTitle(\"\")\n",
    "grupbox02.setGeometry(200, 10, 180, 100)\n",
    "#grupbox02.setStyleSheet(\"background-color: red\")\n",
    "\n",
    "yazi_alani1 = QtWidgets.QLineEdit(grupbox01)\n",
    "yazi_alani1.setText(\"\")\n",
    "yazi_alani1.setGeometry(10,20, 160,20)\n",
    "yazi_alani1.setEnabled(True)\n",
    "yazi_alani1.setFont(QtGui.QFont(\"Calibri\", 10))\n",
    "yazi_alani1.setAlignment(Qt.AlignLeft)\n",
    "\n",
    "def serkan():\n",
    "    etiket01.setText(yazi_alani1.text())\n",
    "\n",
    "buton01 = QtWidgets.QPushButton(grupbox02)\n",
    "buton01.setText(\"Tamam\")\n",
    "buton01.move(10,20)\n",
    "buton01.setFixedSize(160, 22)\n",
    "buton01.setFont(QtGui.QFont(\"Calibri\", 10, QtGui.QFont.Bold))\n",
    "buton01.clicked.connect(serkan)\n",
    "\n",
    "etiket01 = QtWidgets.QLabel(pencere01)\n",
    "etiket01.setText(\"Tuzla Mesleki ve Teknik Anadolu Lisesi\")\n",
    "etiket01.move(20, 120)\n",
    "etiket01.setFont(QtGui.QFont(\"Calibri\", 12, QtGui.QFont.Bold))\n",
    "\n",
    "pencere01.show()\n",
    "sys.exit(uygulama.exec_())"
   ]
  }
 ],
 "metadata": {
  "kernelspec": {
   "display_name": "Python 3",
   "language": "python",
   "name": "python3"
  },
  "language_info": {
   "codemirror_mode": {
    "name": "ipython",
    "version": 3
   },
   "file_extension": ".py",
   "mimetype": "text/x-python",
   "name": "python",
   "nbconvert_exporter": "python",
   "pygments_lexer": "ipython3",
   "version": "3.7.0"
  }
 },
 "nbformat": 4,
 "nbformat_minor": 2
}
