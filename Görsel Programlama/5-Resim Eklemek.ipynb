{
 "cells": [
  {
   "cell_type": "code",
   "execution_count": null,
   "metadata": {},
   "outputs": [],
   "source": [
    "import sys\n",
    "from PyQt5 import QtWidgets, QtGui\n",
    "from PyQt5.QtCore import *\n",
    "uygulama = QtWidgets.QApplication(sys.argv)\n",
    "\n",
    "pencere01 = QtWidgets.QWidget()\n",
    "pencere01.setWindowTitle(\"Tuzla Mesleki ve Teknik Anadolu Lisesi\")\n",
    "pencere01.setGeometry(100, 100, 500, 500)\n",
    "pencere01.setWindowIcon(QtGui.QIcon(\"logo.ico\"))\n",
    "\n",
    "resim01 = QtWidgets.QLabel(pencere01)\n",
    "resim01.setPixmap(QtGui.QPixmap(\"plaka.jpg\"))\n",
    "resim01.move(10,10)\n",
    "\n",
    "pencere01.show()\n",
    "sys.exit(uygulama.exec_())"
   ]
  }
 ],
 "metadata": {
  "kernelspec": {
   "display_name": "Python 3",
   "language": "python",
   "name": "python3"
  },
  "language_info": {
   "codemirror_mode": {
    "name": "ipython",
    "version": 3
   },
   "file_extension": ".py",
   "mimetype": "text/x-python",
   "name": "python",
   "nbconvert_exporter": "python",
   "pygments_lexer": "ipython3",
   "version": "3.7.0"
  }
 },
 "nbformat": 4,
 "nbformat_minor": 2
}
