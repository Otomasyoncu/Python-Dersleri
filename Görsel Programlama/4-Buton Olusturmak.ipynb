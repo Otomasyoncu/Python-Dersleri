{
 "cells": [
  {
   "cell_type": "code",
   "execution_count": null,
   "metadata": {},
   "outputs": [],
   "source": [
    "import sys\n",
    "from PyQt5 import QtWidgets, QtGui\n",
    "from PyQt5.QtCore import *\n",
    "app = QtWidgets.QApplication(sys.argv)\n",
    "\n",
    "pencere = QtWidgets.QWidget()\n",
    "pencere.setWindowTitle(\"Serkan Köse\")\n",
    "pencere.setGeometry(400, 100, 500, 500)\n",
    "\n",
    "etiket = QtWidgets.QLabel(pencere)\n",
    "etiket.setText(\"serkan\")\n",
    "etiket.move(50, 30)\n",
    "etiket.setFont(QtGui.QFont(\"Times\", 10, QtGui.QFont.Bold))\n",
    "\n",
    "def serkan():\n",
    "    if etiket.text() == \"kose\":\n",
    "        etiket.setText(\"serkan\")\n",
    "    elif etiket.text() == \"serkan\":\n",
    "        etiket.setText(\"kose\")\n",
    "\n",
    "buton = QtWidgets.QPushButton(pencere)\n",
    "buton.setText(\"Tıklayınız\")\n",
    "buton.move(40, 60)\n",
    "buton.clicked.connect(serkan)\n",
    "\n",
    "pencere.show()\n",
    "sys.exit(app.exec_())"
   ]
  }
 ],
 "metadata": {
  "kernelspec": {
   "display_name": "Python 3",
   "language": "python",
   "name": "python3"
  },
  "language_info": {
   "codemirror_mode": {
    "name": "ipython",
    "version": 3
   },
   "file_extension": ".py",
   "mimetype": "text/x-python",
   "name": "python",
   "nbconvert_exporter": "python",
   "pygments_lexer": "ipython3",
   "version": "3.7.0"
  }
 },
 "nbformat": 4,
 "nbformat_minor": 2
}
