{
 "cells": [
  {
   "cell_type": "code",
   "execution_count": null,
   "metadata": {},
   "outputs": [],
   "source": [
    "import sys,time\n",
    "from PyQt5 import QtWidgets, QtGui\n",
    "from PyQt5.QtCore import *\n",
    "uygulama = QtWidgets.QApplication(sys.argv)\n",
    "\n",
    "pencere01 = QtWidgets.QWidget()\n",
    "pencere01.setWindowTitle(\"Serkan Köse\")\n",
    "pencere01.setGeometry(400, 150, 400, 400)\n",
    "pencere01.setWindowIcon(QtGui.QIcon(\"logo.ico\"))\n",
    "\n",
    "def serkan():\n",
    "    progressbar01.setValue(slider01.value())\n",
    "\n",
    "slider01 = QtWidgets.QSlider(pencere01)\n",
    "slider01.setOrientation(Qt.Horizontal)\n",
    "slider01.setGeometry(20, 20, 200, 40)\n",
    "slider01.setMinimum(0)\n",
    "slider01.setMaximum(100)\n",
    "slider01.setValue(0)\n",
    "slider01.setSingleStep(5)\n",
    "slider01.setTickInterval(20)\n",
    "slider01.setTickPosition(QtWidgets.QSlider.TicksRight)\n",
    "slider01.valueChanged.connect(serkan)\n",
    "\n",
    "progressbar01 = QtWidgets.QProgressBar(pencere01)\n",
    "progressbar01.setOrientation(Qt.Horizontal)\n",
    "progressbar01.setGeometry(20, 150, 200, 20)\n",
    "progressbar01.setMinimum(0)\n",
    "progressbar01.setMaximum(100)\n",
    "progressbar01.setValue(0)\n",
    "\n",
    "pencere01.show()\n",
    "sys.exit(uygulama.exec_())"
   ]
  }
 ],
 "metadata": {
  "kernelspec": {
   "display_name": "Python 3",
   "language": "python",
   "name": "python3"
  },
  "language_info": {
   "codemirror_mode": {
    "name": "ipython",
    "version": 3
   },
   "file_extension": ".py",
   "mimetype": "text/x-python",
   "name": "python",
   "nbconvert_exporter": "python",
   "pygments_lexer": "ipython3",
   "version": "3.7.0"
  }
 },
 "nbformat": 4,
 "nbformat_minor": 2
}
