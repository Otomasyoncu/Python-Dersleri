{
 "cells": [
  {
   "cell_type": "code",
   "execution_count": null,
   "metadata": {},
   "outputs": [],
   "source": [
    "import sys\n",
    "from PyQt5 import QtWidgets, QtGui\n",
    "app = QtWidgets.QApplication(sys.argv)\n",
    "\n",
    "pencere = QtWidgets.QWidget()\n",
    "pencere.setWindowTitle(\"Serkan Köse\")\n",
    "pencere.setGeometry(400, 100, 500, 500)\n",
    "\n",
    "etiket1 = QtWidgets.QLabel(pencere)\n",
    "etiket1.setText(\"Sülo\")\n",
    "etiket1.move(30, 30)\n",
    "etiket1.setFont(QtGui.QFont(\"Times\", 10, QtGui.QFont.ExtraBold))\n",
    "\n",
    "etiket2 = QtWidgets.QLabel(pencere)\n",
    "etiket2.setText(\"Bayram\")\n",
    "etiket2.move(30, 50)\n",
    "etiket2.setFont(QtGui.QFont(\"Times\", 12, QtGui.QFont.ExtraBold))\n",
    "\n",
    "pencere.show()\n",
    "sys.exit(app.exec_())"
   ]
  }
 ],
 "metadata": {
  "kernelspec": {
   "display_name": "Python 3",
   "language": "python",
   "name": "python3"
  },
  "language_info": {
   "codemirror_mode": {
    "name": "ipython",
    "version": 3
   },
   "file_extension": ".py",
   "mimetype": "text/x-python",
   "name": "python",
   "nbconvert_exporter": "python",
   "pygments_lexer": "ipython3",
   "version": "3.7.0"
  }
 },
 "nbformat": 4,
 "nbformat_minor": 2
}
