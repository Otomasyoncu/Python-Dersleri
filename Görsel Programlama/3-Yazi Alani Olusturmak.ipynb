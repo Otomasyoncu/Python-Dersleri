{
 "cells": [
  {
   "cell_type": "code",
   "execution_count": null,
   "metadata": {},
   "outputs": [],
   "source": [
    "import sys\n",
    "from PyQt5 import QtWidgets, QtGui\n",
    "from PyQt5.QtCore import *\n",
    "app = QtWidgets.QApplication(sys.argv)\n",
    "\n",
    "pencere = QtWidgets.QWidget()\n",
    "pencere.setWindowTitle(\"Serkan Köse\")\n",
    "pencere.setGeometry(400, 100, 500, 500)\n",
    "\n",
    "etiket1 = QtWidgets.QLabel(pencere)\n",
    "etiket1.setText(\"Adınız      :\")\n",
    "etiket1.move(30, 30)\n",
    "etiket1.setFont(QtGui.QFont(\"Times\", 10, QtGui.QFont.ExtraBold))\n",
    "\n",
    "etiket2 = QtWidgets.QLabel(pencere)\n",
    "etiket2.setText(\"Soyadınız :\")\n",
    "etiket2.move(30, 60)\n",
    "etiket2.setFont(QtGui.QFont(\"Times\", 10, QtGui.QFont.Bold))\n",
    "\n",
    "yazi_alani1 = QtWidgets.QLineEdit(pencere)\n",
    "yazi_alani1.setText(\"\")\n",
    "yazi_alani1.move(105,27)\n",
    "yazi_alani1.setEnabled(True)\n",
    "yazi_alani1.setFont(QtGui.QFont(\"Times\", 10, QtGui.QFont.Bold))\n",
    "yazi_alani1.setAlignment(Qt.AlignLeft)\n",
    "\n",
    "yazi_alani2 = QtWidgets.QLineEdit(pencere)\n",
    "yazi_alani2.setText(\"0123\")\n",
    "yazi_alani2.move(105,57)\n",
    "yazi_alani2.setEnabled(False)\n",
    "yazi_alani2.setFont(QtGui.QFont(\"Times\", 10, QtGui.QFont.Bold))\n",
    "yazi_alani2.setAlignment(Qt.AlignRight)\n",
    "\n",
    "pencere.show()\n",
    "sys.exit(app.exec_())"
   ]
  }
 ],
 "metadata": {
  "kernelspec": {
   "display_name": "Python 3",
   "language": "python",
   "name": "python3"
  },
  "language_info": {
   "codemirror_mode": {
    "name": "ipython",
    "version": 3
   },
   "file_extension": ".py",
   "mimetype": "text/x-python",
   "name": "python",
   "nbconvert_exporter": "python",
   "pygments_lexer": "ipython3",
   "version": "3.7.0"
  }
 },
 "nbformat": 4,
 "nbformat_minor": 2
}
