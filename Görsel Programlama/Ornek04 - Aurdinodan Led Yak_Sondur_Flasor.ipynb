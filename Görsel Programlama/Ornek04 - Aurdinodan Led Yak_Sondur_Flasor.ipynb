{
 "cells": [
  {
   "cell_type": "code",
   "execution_count": null,
   "metadata": {},
   "outputs": [],
   "source": [
    "import sys,time,serial\n",
    "from PyQt5 import QtWidgets\n",
    "from PyQt5 import QtGui\n",
    "app = QtWidgets.QApplication(sys.argv)\n",
    "\n",
    "pencere = QtWidgets.QWidget()\n",
    "pencere.setWindowTitle(\"Tuzla Mesleki ve Teknik Anadolu Lisesi\")\n",
    "pencere.setGeometry(400, 200, 400, 400)\n",
    "\n",
    "etiket = QtWidgets.QLabel(pencere)\n",
    "etiket.setText(\"Bir Butona Basmadınız\")\n",
    "etiket.move(100, 40)\n",
    "etiket.setFont(QtGui.QFont(\"Times\", 12, QtGui.QFont.Bold))\n",
    "\n",
    "port = serial.Serial(\"COM4\", baudrate=9600, timeout=2)\n",
    "\n",
    "def serkan1():\n",
    "    port.write(str.encode(\"A\"))\n",
    "    c = port.readline().decode(\"utf-8\")\n",
    "    etiket.setText(c)\n",
    "\n",
    "buton1 = QtWidgets.QPushButton(pencere)\n",
    "buton1.setText(\"Yak\")\n",
    "buton1.move(100, 80)\n",
    "buton1.clicked.connect(serkan1)\n",
    "\n",
    "def serkan2():\n",
    "    port.write(str.encode(\"B\"))\n",
    "    c = port.readline().decode(\"utf-8\")\n",
    "    etiket.setText(c)\n",
    "\n",
    "buton2 = QtWidgets.QPushButton(pencere)\n",
    "buton2.setText(\"Söndür\")\n",
    "buton2.move(100, 120)\n",
    "buton2.clicked.connect(serkan2)\n",
    "\n",
    "def serkan3():\n",
    "    port.write(str.encode(\"C\"))\n",
    "    c = port.readline().decode(\"utf-8\")\n",
    "    etiket.setText(c)\n",
    "\n",
    "buton3 = QtWidgets.QPushButton(pencere)\n",
    "buton3.setText(\"Flaşör\")\n",
    "buton3.move(100, 160)\n",
    "buton3.clicked.connect(serkan3)\n",
    "\n",
    "pencere.show()\n",
    "sys.exit(app.exec_())"
   ]
  }
 ],
 "metadata": {
  "kernelspec": {
   "display_name": "Python 3",
   "language": "python",
   "name": "python3"
  },
  "language_info": {
   "codemirror_mode": {
    "name": "ipython",
    "version": 3
   },
   "file_extension": ".py",
   "mimetype": "text/x-python",
   "name": "python",
   "nbconvert_exporter": "python",
   "pygments_lexer": "ipython3",
   "version": "3.7.0"
  }
 },
 "nbformat": 4,
 "nbformat_minor": 2
}
