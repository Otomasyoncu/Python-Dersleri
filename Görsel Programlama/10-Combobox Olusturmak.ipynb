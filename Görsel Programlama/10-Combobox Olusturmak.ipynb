{
 "cells": [
  {
   "cell_type": "code",
   "execution_count": null,
   "metadata": {},
   "outputs": [],
   "source": [
    "import sys\n",
    "from PyQt5 import QtWidgets, QtGui\n",
    "from PyQt5.QtCore import *\n",
    "uygulama = QtWidgets.QApplication(sys.argv)\n",
    "\n",
    "pencere01 = QtWidgets.QWidget()\n",
    "pencere01.setWindowTitle(\"Serkan Köse\")\n",
    "pencere01.setGeometry(400, 150, 400, 400)\n",
    "pencere01.setWindowIcon(QtGui.QIcon(\"logo.ico\"))\n",
    "\n",
    "def serkan01():\n",
    "    if combobox01.currentText() == \"Maltepe\" :\n",
    "        pencere01.setWindowTitle(\"Başıbüyük\")\n",
    "    elif combobox01.currentText() == \"Kadıköy\" :\n",
    "        pencere01.setWindowTitle(\"Erenköy\")\n",
    "\n",
    "combobox01 = QtWidgets.QComboBox(pencere01)\n",
    "combobox01.setGeometry(20, 20, 250, 20)\n",
    "combobox01.addItem(\"Pendik\")\n",
    "combobox01.addItem(\"Tuzla\")\n",
    "combobox01.addItem(\"Kadıköy\")\n",
    "combobox01.addItem(\"Kartal\")\n",
    "combobox01.addItem(\"Maltepe\")\n",
    "combobox01.currentTextChanged.connect(serkan01)\n",
    "\n",
    "def serkan02():\n",
    "    etiket01.setText(combobox01.currentText())\n",
    "\n",
    "buton01 = QtWidgets.QPushButton(pencere01)\n",
    "buton01.setText(\"Tamam\")\n",
    "buton01.move(20, 50)\n",
    "buton01.setFixedSize(250, 30)\n",
    "buton01.setFont(QtGui.QFont(\"Calibri\", 10, QtGui.QFont.Bold))\n",
    "buton01.clicked.connect(serkan02)\n",
    "\n",
    "etiket01 = QtWidgets.QLabel(pencere01)\n",
    "etiket01.setText(\"Tuzla Mesleki ve Teknik Anadolu Lisesi\")\n",
    "etiket01.move(20, 120)\n",
    "etiket01.setFont(QtGui.QFont(\"Calibri\", 12, QtGui.QFont.Bold))\n",
    "\n",
    "pencere01.show()\n",
    "sys.exit(uygulama.exec_())"
   ]
  }
 ],
 "metadata": {
  "kernelspec": {
   "display_name": "Python 3",
   "language": "python",
   "name": "python3"
  },
  "language_info": {
   "codemirror_mode": {
    "name": "ipython",
    "version": 3
   },
   "file_extension": ".py",
   "mimetype": "text/x-python",
   "name": "python",
   "nbconvert_exporter": "python",
   "pygments_lexer": "ipython3",
   "version": "3.7.0"
  }
 },
 "nbformat": 4,
 "nbformat_minor": 2
}
