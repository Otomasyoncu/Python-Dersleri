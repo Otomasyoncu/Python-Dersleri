{
 "cells": [
  {
   "cell_type": "code",
   "execution_count": null,
   "metadata": {},
   "outputs": [],
   "source": [
    "import sys,time,threading\n",
    "from PyQt5 import QtWidgets, QtGui\n",
    "from PyQt5.QtCore import *\n",
    "uygulama = QtWidgets.QApplication(sys.argv)\n",
    "\n",
    "pencere01 = QtWidgets.QWidget()\n",
    "pencere01.setWindowTitle(\"Serkan Köse\")\n",
    "pencere01.setGeometry(400, 150, 400, 400)\n",
    "pencere01.setWindowIcon(QtGui.QIcon(\"logo.ico\"))\n",
    "\n",
    "etiket01 = QtWidgets.QLabel(pencere01)\n",
    "etiket01.setText(\"serkan köse\")\n",
    "etiket01.move(100, 30)\n",
    "etiket01.setFont(QtGui.QFont(\"Times\", 12, QtGui.QFont.Bold))\n",
    "\n",
    "def serkan():\n",
    "    i = 60\n",
    "    while 2>1:\n",
    "        a=str(i)\n",
    "        etiket01.setText(a)\n",
    "        time.sleep(2)\n",
    "        i = i - 1\n",
    "\n",
    "is_parcasi = threading.Thread(target=serkan)\n",
    "is_parcasi.start()\n",
    "\n",
    "\n",
    "pencere01.show()\n",
    "sys.exit(uygulama.exec_())"
   ]
  }
 ],
 "metadata": {
  "kernelspec": {
   "display_name": "Python 3",
   "language": "python",
   "name": "python3"
  },
  "language_info": {
   "codemirror_mode": {
    "name": "ipython",
    "version": 3
   },
   "file_extension": ".py",
   "mimetype": "text/x-python",
   "name": "python",
   "nbconvert_exporter": "python",
   "pygments_lexer": "ipython3",
   "version": "3.7.0"
  }
 },
 "nbformat": 4,
 "nbformat_minor": 2
}
