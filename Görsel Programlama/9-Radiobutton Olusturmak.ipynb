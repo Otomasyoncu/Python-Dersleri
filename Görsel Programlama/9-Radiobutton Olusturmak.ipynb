{
 "cells": [
  {
   "cell_type": "code",
   "execution_count": null,
   "metadata": {},
   "outputs": [],
   "source": [
    "import sys\n",
    "from PyQt5 import QtWidgets, QtGui\n",
    "from PyQt5.QtCore import *\n",
    "uygulama = QtWidgets.QApplication(sys.argv)\n",
    "\n",
    "pencere01 = QtWidgets.QWidget()\n",
    "pencere01.setWindowTitle(\"Serkan Köse\")\n",
    "pencere01.setGeometry(400, 150, 400, 400)\n",
    "pencere01.setWindowIcon(QtGui.QIcon(\"logo.ico\"))\n",
    "\n",
    "radio01 = QtWidgets.QRadioButton(pencere01)\n",
    "radio01.setChecked(True)\n",
    "radio01.setText(\"Kırmızı\")\n",
    "radio01.move(20,20)\n",
    "\n",
    "radio02 = QtWidgets.QRadioButton(pencere01)\n",
    "radio02.setChecked(True)\n",
    "radio02.setText(\"Mavi\")\n",
    "radio02.move(20,40)\n",
    "\n",
    "radio03 = QtWidgets.QRadioButton(pencere01)\n",
    "radio03.setChecked(False)\n",
    "radio03.setText(\"Yeşil\")\n",
    "radio03.move(20,60)\n",
    "\n",
    "def serkan():\n",
    "    if radio01.isChecked() ==True :\n",
    "         buton01.setStyleSheet(\"background-color: red\")\n",
    "    elif radio02.isChecked() == True :\n",
    "         buton01.setStyleSheet(\"background-color: blue\")\n",
    "    elif radio03.isChecked() == True :\n",
    "         buton01.setStyleSheet(\"background-color: green\")\n",
    "\n",
    "buton01 = QtWidgets.QPushButton(pencere01)\n",
    "buton01.setText(\"Tamam\")\n",
    "buton01.move(100, 20)\n",
    "buton01.setFixedSize(150, 40)\n",
    "buton01.setFont(QtGui.QFont(\"Times\", 12, QtGui.QFont.Bold))\n",
    "buton01.clicked.connect(serkan)\n",
    "\n",
    "pencere01.show()\n",
    "sys.exit(uygulama.exec_())"
   ]
  }
 ],
 "metadata": {
  "kernelspec": {
   "display_name": "Python 3",
   "language": "python",
   "name": "python3"
  },
  "language_info": {
   "codemirror_mode": {
    "name": "ipython",
    "version": 3
   },
   "file_extension": ".py",
   "mimetype": "text/x-python",
   "name": "python",
   "nbconvert_exporter": "python",
   "pygments_lexer": "ipython3",
   "version": "3.7.0"
  }
 },
 "nbformat": 4,
 "nbformat_minor": 2
}
